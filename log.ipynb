{
 "cells": [
  {
   "cell_type": "code",
   "execution_count": null,
   "metadata": {},
   "outputs": [],
   "source": [
    "18/01/2025\n",
    "1. Зарегистрированы аккаунты на github, kaggle, ODS.AI,Canva и выполнены настройки для работы с ними.\n",
    "2. Установлены программы и библиотеки GitHub Desktop, Cursor, CPython, Git for Windows, Conda.\n",
    "3. Выполнены необходимые действия с Гит: поставлена звезда, присоединился к команде, создана новая ветка, выполнено клонирование новой ветки.\n",
    "4. Установлена библиотека pre-commit. Отправлен скриншот терминала.\n",
    "5. Рекурсия: создан данный лог.\n"
   ]
  }
 ],
 "metadata": {
  "language_info": {
   "name": "python"
  }
 },
 "nbformat": 4,
 "nbformat_minor": 2
}
